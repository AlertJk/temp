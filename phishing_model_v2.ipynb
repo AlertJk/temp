import pandas as pd
import numpy as np
from sklearn.model_selection import train_test_split
from sklearn.feature_extraction.text import TfidfVectorizer
from sklearn.naive_bayes import MultinomialNB
from sklearn.ensemble import RandomForestClassifier, VotingClassifier
from sklearn.metrics import classification_report, accuracy_score, confusion_matrix
from sklearn.preprocessing import LabelEncoder
from google.colab import drive
import warnings
import re


# Suppress warnings
warnings.filterwarnings('ignore')


# Get the file data and read into DataFrame
drive.mount('/content/drive', force_remount=False)  # Skip auth if already mounted
df = pd.read_csv('/content/drive/MyDrive/Colab Notebooks/Phishing_Email.csv', index_col=0)


# Preprocessing
cleaned_df = df.dropna(subset=['Email Text', 'Email Type'])

def preprocess_text(text):
    # Remove hyperlinks
    text = re.sub(r'http\S+', '', text)
    # Remove punctuations
    text = re.sub(r'[^\w\s]', '', text)
    # Convert to lowercase
    text = text.lower()
    # Remove extra spaces
    text = re.sub(r'\s+', ' ', text).strip()
    return text

# # Apply preprocessing to the email text
cleaned_df["Email Text"] = cleaned_df["Email Text"].apply(preprocess_text)

# Now use CLEANED data
X = cleaned_df['Email Text']
y = cleaned_df['Email Type']


# Encode dependent variables/ labels to numerical values
label_encoder = LabelEncoder()
y_encoded = label_encoder.fit_transform(y)

# Split the data into training and testing sets
X_train, X_test, y_train, y_test = train_test_split(
    X, y_encoded, test_size=0.2, random_state=42, stratify=y_encoded
)

# Create TF-IDF vectorizer to convert text to numerical features
tfidf_vectorizer = TfidfVectorizer(
    max_features=5000,  # Limit number of features to prevent overfitting
    lowercase= True,
    stop_words='english',
    ngram_range=(1, 2)  # Consider both single words and word pairs
)

# Transform the text data
X_train_tfidf = tfidf_vectorizer.fit_transform(X_train)
X_test_tfidf = tfidf_vectorizer.transform(X_test)

# Initialize individual classifiers
nb_classifier = MultinomialNB(alpha=0.1)  # Naive Bayes with smoothing
rf_classifier = RandomForestClassifier(
    n_estimators=100,
    max_depth=30,
    min_samples_split=5,
    random_state=42,
    class_weight='balanced'
)

# Create voting classifier
voting_classifier = VotingClassifier(
    estimators=[
        ('nb', nb_classifier),
        ('rf', rf_classifier)
    ],
    voting='soft'  # Use soft voting for probability-based combination
)

# Train the voting classifier
voting_classifier.fit(X_train_tfidf, y_train)


